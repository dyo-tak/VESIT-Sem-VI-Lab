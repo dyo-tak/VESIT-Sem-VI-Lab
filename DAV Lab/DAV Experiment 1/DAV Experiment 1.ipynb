{
  "cells": [
    {
      "cell_type": "markdown",
      "metadata": {
        "id": "hZCF5ywFWkDY"
      },
      "source": [
        "# Experiment 1"
      ]
    },
    {
      "cell_type": "markdown",
      "metadata": {
        "id": "TdOadWBAWsJw"
      },
      "source": [
        "Name: Dyotak Kachare\n",
        "Class: D11AD    \n",
        "Roll No: 26   "
      ]
    },
    {
      "cell_type": "markdown",
      "metadata": {
        "id": "INd5fiaLW_YQ"
      },
      "source": [
        "**Aim**: Getting introduced to data analytics libraries in Python and R.         \n",
        "**Lab Objectives**: To effectively use libraries for data analytics.    \n",
        "**Lab Outcomes**: Explore various data analytics Libraries in R and Python.    \n",
        "**Tasks Performed**:\n",
        "1. Explored Top-5 Data Analytics Libraries in Python\n",
        "2. Explore Top-5 Data Analytics Libraries in R\n",
        "3. Installed and performed simple experiments on 2 Libraries each for Python and R"
      ]
    },
    {
      "cell_type": "markdown",
      "metadata": {
        "id": "LuH58ro8XbHp"
      },
      "source": [
        "### **Theory**:"
      ]
    },
    {
      "cell_type": "markdown",
      "metadata": {
        "id": "zymcxh94pobl"
      },
      "source": [
        "#### Top 5 Data Analytics Libraries in Python\n",
        "1. Numpy\n",
        "  - NumPy is the fundamental package for scientific computing in Python.\n",
        "  - It is a Python library that provides a multidimensional array object, various derived objects (such as masked arrays and matrices), and an assortment of routines for fast operations on arrays, including mathematical, logical, shape manipulation, sorting, selecting, I/O, discrete Fourier transforms, basic linear algebra, basic statistical operations, random simulation and much more.\n",
        "  Features:\n",
        "  - A powerful N-dimensional array object\n",
        "  - Sophisticated (broadcasting) functions\n",
        "  - Tools for integrating C/C++ and Fortran code\n",
        "  - Useful linear algebra, Fourier transform, and random number capabilities\n",
        "\n",
        "\n",
        "2. Pandas\n",
        "  - pandas is a Python package providing fast, flexible, and expressive data structures designed to make working with “relational” or “labeled” data both easy and intuitive\n",
        "  - Fast and efficient DataFrame object with default and customized indexing.\n",
        "  - Tools for loading data into in-memory data objects from different file formats.\n",
        "  - Data alignment and integrated handling of missing data.\n",
        "  - High performance merging and joining of data.\n",
        "\n",
        "3. Scikit-Learn\n",
        "  - Scikit-learn is an open source machine learning library that supports supervised and unsupervised learning. It also provides various tools for model fitting, data preprocessing, model selection, model evaluation, and many other utilities.\n",
        "  - It provides a selection of efficient tools for machine learning and statistical modeling including classification, regression, clustering and dimensionality reduction via a consistence interface in Python\n",
        "  Features:\n",
        "  - Simple and efficient tools for predictive data analysis\n",
        "  - Accessible to everybody, and reusable in various contexts\n",
        "  - Built on NumPy, SciPy, and matplotlib\n",
        "  - Open source, commercially usable - BSD license\n",
        "\n",
        "4. Keras\n",
        "  - Keras is a popular library that is used extensively for deep learning and neural network modules.\n",
        "  - Keras runs on top of open source machine libraries like TensorFlow, Theano or Cognitive Toolkit (CNTK)\n",
        "  - Keras supports both the TensorFlow and Theano backends, so it is a good option if you don't want to dive into the details of TensorFlow.\n",
        "  Features\n",
        "  - Consistent, simple and extensible API.\n",
        "  - Minimal structure - easy to achieve the result without any frills.\n",
        "  - It supports multiple platforms and backends.\n",
        "  - It is user friendly framework which runs on both CPU and GPU.\n",
        "  - Highly scalability of computation.\n",
        "5. BeautifulSoup\n",
        "  - Beautiful Soup is a Python package for parsing HTML and XML documents.\n",
        "  - It creates a parse tree for parsed pages that can be used to extract data from HTML, which is useful for web scraping.\n",
        "  Features:\n",
        "  - HTML/XML Parsing: Beautiful Soup allows easy extraction of data from HTML and XML documents by providing methods to navigate the parse tree.\n",
        "  - Tag and Attribute Searching: Beautiful Soup makes it easy to search for specific HTML or XML tags and their attributes, simplifying the process of locating and extracting relevant information.\n",
        "  - Tree Navigation: Beautiful Soup creates a parse tree from the input HTML or XML, and it provides methods for navigating this tree structure to access specific elements.\n",
        "  - Content Extraction: It allows the extraction of the textual content, attributes, and other data associated with HTML or XML elements.\n",
        "\n",
        "#### Top 5 Data Analytics Libraries in R\n",
        "1. dplyr    \n",
        "  - The dplyr is a powerful R-package to manipulate, clean and summarize unstructured data.\n",
        "  - It makes data exploration and data manipulation easy and fast in R. The package \"dplyr\" comprises many functions that perform mostly used data manipulation operations such as applying filter, selecting specific columns, sorting data, adding or deleting columns and aggregating data.    \n",
        "  Features:\n",
        "  - It provides simple “verbs”, functions that correspond to the most common data manipulation tasks, to help you translate your thoughts into code.\n",
        "  - It uses efficient backends, so you spend less time waiting for the computer.\n",
        "\n",
        "2. ggplot2\n",
        "  - ggplot2 implements the grammar of graphics, a coherent system for describing and building graphs.\n",
        "  - This approach gives us a coherent way to produce visualizations by expressing relationships between the attributes of data and their graphical representation\n",
        "  - Thus, one can create plots faster by learning one system and applying it in many places.\n",
        "\n",
        "3. lubridate\n",
        "  - R by default offers limited capability to deal with date and time.\n",
        "  - Lubridate is an R package that makes it easier to work with dates and times\n",
        "  - It offers a wide variety of functions that make it easier to work with .dates and time.\n",
        "\n",
        "4. mlr\n",
        " - The mlr package provides a generic, object-oriented, and extensible framework for classification, regression, survival analysis and clustering for the R language.\n",
        " - It provides a unified interface to more than 160 basic learners and includes meta-algorithms and model selection techniques to improve and extend the functionality of basic learners with, e.g., hyperparameter tuning, feature selection, and ensemble construction.\n",
        " - Parallel high-performance computing is also natively supported by mlr.\n",
        "\n",
        "5. shiny\n",
        "  - Shiny is an R package that makes it easy to build interactive web applications (apps) straight from R.\n",
        "  - Shiny is a framework for creating web applications using R code.\n",
        "  - It is designed primarily with data scientists in mind and it can create pretty complicated Shiny apps without requiring knowledge of HTML, CSS, or JavaScript\n",
        "  - Provides a carefully curated set of user interface (UI for short) functions that generate the HTML, CSS, and JavaScript needed for common tasks\n",
        "  - It follows a style of programming called reactive programming which automatically tracks the dependencies of pieces of code."
      ]
    },
    {
      "cell_type": "markdown",
      "metadata": {
        "id": "5vEqIOs3mBTa"
      },
      "source": [
        "### Python Libraries"
      ]
    },
    {
      "cell_type": "code",
      "execution_count": null,
      "metadata": {
        "colab": {
          "base_uri": "https://localhost:8080/"
        },
        "id": "60ri3yR6m8UK",
        "outputId": "9868193d-690f-47b6-bcaf-322f83f25ab4"
      },
      "outputs": [
        {
          "name": "stdout",
          "output_type": "stream",
          "text": [
            "1D Array : [2 3 4 5], Shape : (4,)\n",
            "2D Array : \n",
            "[[1 2 3]\n",
            " [4 5 6]], Shape : (2, 3)\n"
          ]
        }
      ],
      "source": [
        "import numpy as np\n",
        "array1D = np.array([2,3,4,5])\n",
        "print(f\"1D Array : {array1D}, Shape : {array1D.shape}\")\n",
        "\n",
        "array2D = np.array([[1,2,3],[4,5,6]])\n",
        "print(f\"2D Array : \\n{array2D}, Shape : {array2D.shape}\")"
      ]
    },
    {
      "cell_type": "code",
      "execution_count": null,
      "metadata": {
        "id": "UzqPLWEVmWqS"
      },
      "outputs": [],
      "source": [
        "import pandas as pd\n",
        "data = {\n",
        "  \"calories\": [420, None, 390],\n",
        "  \"duration\": [50, 40, 45]\n",
        "}\n",
        "df = pd.DataFrame(data)\n",
        "missing = np.where(df[\"calories\"].isnull() == True)\n",
        "print(df)\n",
        "print(missing)"
      ]
    },
    {
      "cell_type": "markdown",
      "metadata": {
        "id": "NTdfy1JTmNFp"
      },
      "source": [
        "### R Libraries"
      ]
    },
    {
      "cell_type": "code",
      "execution_count": null,
      "metadata": {
        "colab": {
          "base_uri": "https://localhost:8080/",
          "height": 223
        },
        "id": "GOq9KlpVnZp5",
        "outputId": "a0e844ca-1800-4a48-c9b1-3b7a748a9674"
      },
      "outputs": [
        {
          "data": {
            "text/html": [
              "<table class=\"dataframe\">\n",
              "<caption>A data.frame: 4 × 2</caption>\n",
              "<thead>\n",
              "\t<tr><th scope=col>department</th><th scope=col>year</th></tr>\n",
              "\t<tr><th scope=col>&lt;chr&gt;</th><th scope=col>&lt;dbl&gt;</th></tr>\n",
              "</thead>\n",
              "<tbody>\n",
              "\t<tr><td>EXTC</td><td>2001</td></tr>\n",
              "\t<tr><td>IT  </td><td>2006</td></tr>\n",
              "\t<tr><td>AIDS</td><td>2014</td></tr>\n",
              "\t<tr><td>CS  </td><td>2016</td></tr>\n",
              "</tbody>\n",
              "</table>\n"
            ],
            "text/latex": [
              "A data.frame: 4 × 2\n",
              "\\begin{tabular}{ll}\n",
              " department & year\\\\\n",
              " <chr> & <dbl>\\\\\n",
              "\\hline\n",
              "\t EXTC & 2001\\\\\n",
              "\t IT   & 2006\\\\\n",
              "\t AIDS & 2014\\\\\n",
              "\t CS   & 2016\\\\\n",
              "\\end{tabular}\n"
            ],
            "text/markdown": [
              "\n",
              "A data.frame: 4 × 2\n",
              "\n",
              "| department &lt;chr&gt; | year &lt;dbl&gt; |\n",
              "|---|---|\n",
              "| EXTC | 2001 |\n",
              "| IT   | 2006 |\n",
              "| AIDS | 2014 |\n",
              "| CS   | 2016 |\n",
              "\n"
            ],
            "text/plain": [
              "  department year\n",
              "1 EXTC       2001\n",
              "2 IT         2006\n",
              "3 AIDS       2014\n",
              "4 CS         2016"
            ]
          },
          "metadata": {},
          "output_type": "display_data"
        }
      ],
      "source": [
        "library(dplyr)\n",
        "library(ggplot2)\n",
        "library(dplyr)\n",
        "df = data.frame(\n",
        "    department = c(\"AIDS\",\"CS\",\"IT\",\"EXTC\"),\n",
        "    year = c(2014,2016,2006,2001)\n",
        ")\n",
        "df.department = arrange(df,year)\n",
        "df.department"
      ]
    },
    {
      "cell_type": "code",
      "execution_count": null,
      "metadata": {
        "colab": {
          "base_uri": "https://localhost:8080/",
          "height": 437
        },
        "id": "X5_j9NXno1sS",
        "outputId": "00facf4f-a46b-4e11-f886-67c758d8b856"
      },
      "outputs": [
        {
          "data": {
            "image/png": "[encoded data removed]",
            "text/plain": [
              "plot without title"
            ]
          },
          "metadata": {
            "image/png": {
              "height": 420,
              "width": 420
            }
          },
          "output_type": "display_data"
        }
      ],
      "source": [
        "df1 = data.frame(\n",
        "    calories = c(420,360,390, 400, 450, 460),\n",
        "    duration = c(50, 40, 45, 47, 42, 52)\n",
        ")\n",
        "ggplot(data = df1, mapping = aes(x= calories, y = duration)) +  geom_point()"
      ]
    },
    {
      "cell_type": "markdown",
      "metadata": {
        "id": "U9l9rM-bproD"
      },
      "source": [
        "### Conclusion\n"
      ]
    },
    {
      "cell_type": "markdown",
      "metadata": {
        "id": "FJNRuLSNp1bB"
      },
      "source": [
        "- Identified the Data Analytics Libraries in Python and R\n",
        "- Performed simple experiments with these libraries in Python and R"
      ]
    }
  ],
  "metadata": {
    "colab": {
      "provenance": []
    },
    "kernelspec": {
      "display_name": "Python 3",
      "name": "python3"
    },
    "language_info": {
      "name": "python"
    }
  },
  "nbformat": 4,
  "nbformat_minor": 0
}
