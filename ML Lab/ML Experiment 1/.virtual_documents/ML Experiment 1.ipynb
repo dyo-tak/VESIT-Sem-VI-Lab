


# Importing required libraries

import pandas as pd
import numpy as np
import matplotlib.pyplot as plt
import sklearn
import seaborn as sns


import warnings
warnings.filterwarnings("ignore", category=FutureWarning)



# Reading data

heart_disease = pd.read_csv('../data/cleaned/heart.csv')
heart_disease.head()


# Create X (all the feature columns)
X = heart_disease.drop("target", axis=1)

# Create y (the target column)
y = heart_disease["target"]

# Check the head of the features DataFrame
X.head()


# Check the head and the value counts of the labels 
y.head(), y.value_counts()


# Split the data into training and test sets
from sklearn.model_selection import train_test_split

X_train, X_test, y_train, y_test = train_test_split(X, 
                                                    y,
                                                    test_size=0.25) # by default train_test_split uses 25% of the data for the test set

X_train.shape, X_test.shape, y_train.shape, y_test.shape


from sklearn.ensemble import RandomForestClassifier

clf = RandomForestClassifier()


clf.get_params()


clf.fit(X=X_train, y=y_train)


X_test.head()


y_preds = clf.predict(X=X_test)
y_preds


from sklearn.metrics import classification_report, confusion_matrix, accuracy_score

# Create a classification report
print(classification_report(y_test, y_preds))


# Create a confusion matrix
conf_mat = confusion_matrix(y_test, y_preds)
conf_mat





fig = heart_disease.target.value_counts().plot(kind = 'bar', color=["lightblue", 'lightgreen'])
fig.set_xticklabels(labels=['Has heart disease', "Doesn't have heart disease"], rotation=0);
plt.title("Heart Disease values")
plt.ylabel("Amount");


plt.figure(figsize=(8, 6))
sns.histplot(heart_disease['age'], bins=20, kde=True, color='skyblue')
plt.title('Distribution of Age')
plt.xlabel('Age')
plt.ylabel('Frequency')
plt.show()


plt.figure(figsize=(8, 6))
sns.countplot(x='sex', data=heart_disease, palette='pastel')
plt.title('Count of Each Gender')
plt.xlabel('Gender (0: Female, 1: Male)')
plt.ylabel('Count')
plt.show()



plt.figure(figsize=(10, 8))
sns.boxplot(x='cp', y='chol', data=heart_disease, palette='muted')
plt.title('Cholesterol Levels based on Chest Pain Type')
plt.xlabel('Chest Pain Type')
plt.ylabel('Cholesterol Level')
plt.show()



plt.figure(figsize=(10, 8))
sns.scatterplot(x='trestbps', y='thalach', data=heart_disease, hue='sex', palette='viridis')
plt.title('Resting Blood Pressure vs. Maximum Heart Rate')
plt.xlabel('Resting Blood Pressure')
plt.ylabel('Maximum Heart Rate')
plt.legend(title='Gender')
plt.show()

